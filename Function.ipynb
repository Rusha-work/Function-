{
  "nbformat": 4,
  "nbformat_minor": 0,
  "metadata": {
    "colab": {
      "provenance": []
    },
    "kernelspec": {
      "name": "python3",
      "display_name": "Python 3"
    },
    "language_info": {
      "name": "python"
    }
  },
  "cells": [
    {
      "cell_type": "markdown",
      "source": [
        "# *FUNCTION*"
      ],
      "metadata": {
        "id": "1SAyODQ93eqj"
      }
    },
    {
      "cell_type": "code",
      "source": [],
      "metadata": {
        "id": "XwrMUopI5868"
      },
      "execution_count": null,
      "outputs": []
    },
    {
      "cell_type": "markdown",
      "source": [
        "1. What is the difference between a function and a method in Python?\n",
        "  - A function is independent of any object so it can be called from anywhere.Whereas a method is part of obejct and certain class.so when calling upon it you've to call that object/class as well.\n",
        "2. Explain the concept of function arguments and parameters in Python.\n",
        "  - parameters  are the variables defined within the function whereas  arguments  are the values that are passed into the function.\n",
        "   \n",
        "       def greet(name): # 'name' is a parameter\n",
        "            greet(\"Alice\") # \"Alice\" is an argument\n",
        "\n",
        "3. What are the different ways to define and call a function in Python?\n",
        "  - To define function we use def keyword.And when we call a function then we can use the variable that's been used to define the function itself.Like,  def sq_no(a):\n",
        "    return a*a\n",
        "  sq_no(4)\n",
        "\n",
        "  Here the ans becomes 16\n",
        "\n",
        "4. What is the purpose of the `return` statement in a Python function?\n",
        "  - The  purpose of the `return` statement  is to return the value/output of the function that is defined beforehand.\n",
        "\n",
        "5. What are iterators in Python and how do they differ from iterables?\n",
        "  -  Iterators are the steam of data and this can be returned one by one.\n",
        "    Iterables are sequencial object/data structure that's capable of returning it's member one at a time.\n",
        "    Iterators can be used by iter key word.\n",
        "\n",
        "6. Explain the concept of generators in Python and how they are defined.\n",
        "  - Generators are special type of  iterable function because it doesn't performs /returns at 1 go,instead it returns one output at a time. So there's low memory usage and also it doesn't take a lot of time to compute/generate the required output.\n",
        "   They are defined first by defining the function and then we use yield in place of return.and by using next(gen) we get the output.\n",
        "\n",
        "7. What are the advantages of using generators over regular functions?\n",
        "  - Generators use less memory space.it doesn't take a lot of time to compute as it returns output one at a time so it convinient as well.it returns valuse lazily so the output can be made more tailored .we get the output as much as we want instead of getting all the outcomes.\n",
        "\n",
        "8. What is a lambda function in Python and when is it typically used?\n",
        "  -  lambda function is used as shortcut for defining function.As we don't need def and return statements anymore.Also any function can be defined in only one line.\n",
        "\n",
        "9. Explain the purpose and usage of the `map()` function in Python.\n",
        "  - Map executes a specific function for each of item of an iterable.So we can use it to getworking of different function.\n",
        "\n",
        "10. What is the difference between `map()`, `reduce()`, and `filter()` functions in Python?\n",
        "  - Map  executes a specific function for each of item of an iterable.\n",
        "  Reduce helps to reduce by taking 2 arguments and cummulatively applying the function.Filter helps to filter  any  elements from an iterable on the basis of some conditions.\n",
        "\n",
        "\n",
        "\n",
        "11. Using pen & Paper write the internal mechanism for sum operation using reduce function on this given\n",
        "list:[47,11,42,13];\n",
        "  - list= [47,11,42,13]\n",
        "  reduce (lambda x,y: x+y, list)\n",
        "\n",
        "  First we take 2 arguments(first), here that's 47(x) & 11(y).We sum it up and get 58. Which is our new x.Now we sum it up with 42 which is our new y then we get 100. Which becomes our x and again by summing it up with 13(y) we've 113.Which is our final ans."
      ],
      "metadata": {
        "id": "aH7dPxqB5MIJ"
      }
    },
    {
      "cell_type": "code",
      "execution_count": null,
      "metadata": {
        "id": "ENkll1Wz3MFE",
        "colab": {
          "base_uri": "https://localhost:8080/",
          "height": 193
        },
        "outputId": "e03c8ff7-da20-4fb8-9150-5a4fc2f0a519"
      },
      "outputs": [
        {
          "output_type": "error",
          "ename": "NameError",
          "evalue": "name 'total_sum' is not defined",
          "traceback": [
            "\u001b[0;31m---------------------------------------------------------------------------\u001b[0m",
            "\u001b[0;31mNameError\u001b[0m                                 Traceback (most recent call last)",
            "\u001b[0;32m/tmp/ipython-input-8-2627611464.py\u001b[0m in \u001b[0;36m<cell line: 0>\u001b[0;34m()\u001b[0m\n\u001b[1;32m      7\u001b[0m \u001b[0;32mfor\u001b[0m \u001b[0mnum\u001b[0m \u001b[0;32min\u001b[0m \u001b[0ml\u001b[0m\u001b[0;34m:\u001b[0m\u001b[0;34m\u001b[0m\u001b[0;34m\u001b[0m\u001b[0m\n\u001b[1;32m      8\u001b[0m   \u001b[0;32mif\u001b[0m \u001b[0mnum\u001b[0m \u001b[0;34m%\u001b[0m\u001b[0;36m2\u001b[0m \u001b[0;34m==\u001b[0m \u001b[0;36m0\u001b[0m\u001b[0;34m:\u001b[0m\u001b[0;34m\u001b[0m\u001b[0;34m\u001b[0m\u001b[0m\n\u001b[0;32m----> 9\u001b[0;31m     \u001b[0mtotal_sum\u001b[0m \u001b[0;34m+=\u001b[0m \u001b[0msum\u001b[0m\u001b[0;34m\u001b[0m\u001b[0;34m\u001b[0m\u001b[0m\n\u001b[0m\u001b[1;32m     10\u001b[0m \u001b[0;32mreturn\u001b[0m \u001b[0ml\u001b[0m\u001b[0;34m\u001b[0m\u001b[0;34m\u001b[0m\u001b[0m\n",
            "\u001b[0;31mNameError\u001b[0m: name 'total_sum' is not defined"
          ]
        }
      ],
      "source": [
        "'''1.Write a Python function that takes a list of numbers as input and returns the sum of all even numbers in\n",
        "the list.'''\n",
        "\n",
        "l = [1,2,3,4,5,6]\n",
        "def sum_even_num(l) :\n",
        "  total_sum = [ ]\n",
        "for num in l:\n",
        "  if num %2 == 0:\n",
        "    total_sum += sum\n",
        "return l\n"
      ]
    },
    {
      "cell_type": "code",
      "source": [
        "'''2. Create a Python function that accepts a string and returns the reverse of that string.'''\n",
        "s = \"Hello world\"\n",
        "def reversed_string(s):\n",
        "  return s[::-1]\n",
        "print(f\"Reversed string: {s}\") ''' sir didnt understand what happened pls explain'''\n"
      ],
      "metadata": {
        "colab": {
          "base_uri": "https://localhost:8080/"
        },
        "id": "xL6PTV6EGI2D",
        "outputId": "a3d12496-6a0f-4170-cbdb-0242265ce5a3"
      },
      "execution_count": null,
      "outputs": [
        {
          "output_type": "stream",
          "name": "stdout",
          "text": [
            "Reversed string: Hello world\n"
          ]
        }
      ]
    },
    {
      "cell_type": "code",
      "source": [
        "'''3. Implement a Python function that takes a list of integers and returns a new list containing the squares of\n",
        "each number.'''\n",
        "\n",
        "l = [1,2,3,4,5,6]\n",
        "def sq_no(l):\n",
        "   sq =[]\n",
        "   for i in l :\n",
        "    sq.append(i*i)\n",
        "   return sq\n",
        "sq_no(l)\n"
      ],
      "metadata": {
        "colab": {
          "base_uri": "https://localhost:8080/"
        },
        "id": "_npVH7yYJYOC",
        "outputId": "568c9805-7214-4cf2-f642-ff53c3ad510a"
      },
      "execution_count": null,
      "outputs": [
        {
          "output_type": "execute_result",
          "data": {
            "text/plain": [
              "[1, 4, 9, 16, 25, 36]"
            ]
          },
          "metadata": {},
          "execution_count": 20
        }
      ]
    },
    {
      "cell_type": "code",
      "source": [
        "'''4. Write a Python function that checks if a given number is prime or not from 1 to 200.'''\n",
        "\n",
        "def  non_prime():\n",
        "  a=(input(\"Enter a number :\"))\n",
        "  return a %2 == 0\n",
        "non_prime()"
      ],
      "metadata": {
        "colab": {
          "base_uri": "https://localhost:8080/",
          "height": 321
        },
        "id": "8lcZ3sekKWGx",
        "outputId": "05d394e6-d3f3-4a2c-8468-5a6dcc34edb0"
      },
      "execution_count": null,
      "outputs": [
        {
          "output_type": "error",
          "ename": "KeyboardInterrupt",
          "evalue": "Interrupted by user",
          "traceback": [
            "\u001b[0;31m---------------------------------------------------------------------------\u001b[0m",
            "\u001b[0;31mKeyboardInterrupt\u001b[0m                         Traceback (most recent call last)",
            "\u001b[0;32m/tmp/ipython-input-27-2045258128.py\u001b[0m in \u001b[0;36m<cell line: 0>\u001b[0;34m()\u001b[0m\n\u001b[1;32m      4\u001b[0m   \u001b[0ma\u001b[0m\u001b[0;34m=\u001b[0m\u001b[0;34m(\u001b[0m\u001b[0minput\u001b[0m\u001b[0;34m(\u001b[0m\u001b[0;34m\"Enter a number :\"\u001b[0m\u001b[0;34m)\u001b[0m\u001b[0;34m)\u001b[0m\u001b[0;34m\u001b[0m\u001b[0;34m\u001b[0m\u001b[0m\n\u001b[1;32m      5\u001b[0m   \u001b[0;32mreturn\u001b[0m \u001b[0ma\u001b[0m \u001b[0;34m%\u001b[0m\u001b[0;36m2\u001b[0m \u001b[0;34m==\u001b[0m \u001b[0;36m0\u001b[0m\u001b[0;34m\u001b[0m\u001b[0;34m\u001b[0m\u001b[0m\n\u001b[0;32m----> 6\u001b[0;31m \u001b[0mnon_prime\u001b[0m\u001b[0;34m(\u001b[0m\u001b[0;34m)\u001b[0m\u001b[0;34m\u001b[0m\u001b[0;34m\u001b[0m\u001b[0m\n\u001b[0m",
            "\u001b[0;32m/tmp/ipython-input-27-2045258128.py\u001b[0m in \u001b[0;36mnon_prime\u001b[0;34m()\u001b[0m\n\u001b[1;32m      2\u001b[0m \u001b[0;34m\u001b[0m\u001b[0m\n\u001b[1;32m      3\u001b[0m \u001b[0;32mdef\u001b[0m  \u001b[0mnon_prime\u001b[0m\u001b[0;34m(\u001b[0m\u001b[0;34m)\u001b[0m\u001b[0;34m:\u001b[0m\u001b[0;34m\u001b[0m\u001b[0;34m\u001b[0m\u001b[0m\n\u001b[0;32m----> 4\u001b[0;31m   \u001b[0ma\u001b[0m\u001b[0;34m=\u001b[0m\u001b[0;34m(\u001b[0m\u001b[0minput\u001b[0m\u001b[0;34m(\u001b[0m\u001b[0;34m\"Enter a number :\"\u001b[0m\u001b[0;34m)\u001b[0m\u001b[0;34m)\u001b[0m\u001b[0;34m\u001b[0m\u001b[0;34m\u001b[0m\u001b[0m\n\u001b[0m\u001b[1;32m      5\u001b[0m   \u001b[0;32mreturn\u001b[0m \u001b[0ma\u001b[0m \u001b[0;34m%\u001b[0m\u001b[0;36m2\u001b[0m \u001b[0;34m==\u001b[0m \u001b[0;36m0\u001b[0m\u001b[0;34m\u001b[0m\u001b[0;34m\u001b[0m\u001b[0m\n\u001b[1;32m      6\u001b[0m \u001b[0mnon_prime\u001b[0m\u001b[0;34m(\u001b[0m\u001b[0;34m)\u001b[0m\u001b[0;34m\u001b[0m\u001b[0;34m\u001b[0m\u001b[0m\n",
            "\u001b[0;32m/usr/local/lib/python3.11/dist-packages/ipykernel/kernelbase.py\u001b[0m in \u001b[0;36mraw_input\u001b[0;34m(self, prompt)\u001b[0m\n\u001b[1;32m   1175\u001b[0m                 \u001b[0;34m\"raw_input was called, but this frontend does not support input requests.\"\u001b[0m\u001b[0;34m\u001b[0m\u001b[0;34m\u001b[0m\u001b[0m\n\u001b[1;32m   1176\u001b[0m             )\n\u001b[0;32m-> 1177\u001b[0;31m         return self._input_request(\n\u001b[0m\u001b[1;32m   1178\u001b[0m             \u001b[0mstr\u001b[0m\u001b[0;34m(\u001b[0m\u001b[0mprompt\u001b[0m\u001b[0;34m)\u001b[0m\u001b[0;34m,\u001b[0m\u001b[0;34m\u001b[0m\u001b[0;34m\u001b[0m\u001b[0m\n\u001b[1;32m   1179\u001b[0m             \u001b[0mself\u001b[0m\u001b[0;34m.\u001b[0m\u001b[0m_parent_ident\u001b[0m\u001b[0;34m[\u001b[0m\u001b[0;34m\"shell\"\u001b[0m\u001b[0;34m]\u001b[0m\u001b[0;34m,\u001b[0m\u001b[0;34m\u001b[0m\u001b[0;34m\u001b[0m\u001b[0m\n",
            "\u001b[0;32m/usr/local/lib/python3.11/dist-packages/ipykernel/kernelbase.py\u001b[0m in \u001b[0;36m_input_request\u001b[0;34m(self, prompt, ident, parent, password)\u001b[0m\n\u001b[1;32m   1217\u001b[0m             \u001b[0;32mexcept\u001b[0m \u001b[0mKeyboardInterrupt\u001b[0m\u001b[0;34m:\u001b[0m\u001b[0;34m\u001b[0m\u001b[0;34m\u001b[0m\u001b[0m\n\u001b[1;32m   1218\u001b[0m                 \u001b[0;31m# re-raise KeyboardInterrupt, to truncate traceback\u001b[0m\u001b[0;34m\u001b[0m\u001b[0;34m\u001b[0m\u001b[0m\n\u001b[0;32m-> 1219\u001b[0;31m                 \u001b[0;32mraise\u001b[0m \u001b[0mKeyboardInterrupt\u001b[0m\u001b[0;34m(\u001b[0m\u001b[0;34m\"Interrupted by user\"\u001b[0m\u001b[0;34m)\u001b[0m \u001b[0;32mfrom\u001b[0m \u001b[0;32mNone\u001b[0m\u001b[0;34m\u001b[0m\u001b[0;34m\u001b[0m\u001b[0m\n\u001b[0m\u001b[1;32m   1220\u001b[0m             \u001b[0;32mexcept\u001b[0m \u001b[0mException\u001b[0m\u001b[0;34m:\u001b[0m\u001b[0;34m\u001b[0m\u001b[0;34m\u001b[0m\u001b[0m\n\u001b[1;32m   1221\u001b[0m                 \u001b[0mself\u001b[0m\u001b[0;34m.\u001b[0m\u001b[0mlog\u001b[0m\u001b[0;34m.\u001b[0m\u001b[0mwarning\u001b[0m\u001b[0;34m(\u001b[0m\u001b[0;34m\"Invalid Message:\"\u001b[0m\u001b[0;34m,\u001b[0m \u001b[0mexc_info\u001b[0m\u001b[0;34m=\u001b[0m\u001b[0;32mTrue\u001b[0m\u001b[0;34m)\u001b[0m\u001b[0;34m\u001b[0m\u001b[0;34m\u001b[0m\u001b[0m\n",
            "\u001b[0;31mKeyboardInterrupt\u001b[0m: Interrupted by user"
          ]
        }
      ]
    },
    {
      "cell_type": "code",
      "source": [
        "'''5. Create an iterator class in Python that generates the Fibonacci sequence up to a specified number of\n",
        "terms.'''\n",
        "\n",
        "def fib(n):\n",
        "  a = 0\n",
        "  b = 1\n",
        "  for i in range(n):\n",
        "    yield a\n",
        "    a,b=b,a+b\n",
        "f= fib(9)\n",
        "next(f)"
      ],
      "metadata": {
        "colab": {
          "base_uri": "https://localhost:8080/"
        },
        "id": "Np0khMh1MmP_",
        "outputId": "d5dbdba8-d307-47b3-e9a8-51aa49feb06d"
      },
      "execution_count": null,
      "outputs": [
        {
          "output_type": "execute_result",
          "data": {
            "text/plain": [
              "0"
            ]
          },
          "metadata": {},
          "execution_count": 38
        }
      ]
    },
    {
      "cell_type": "code",
      "source": [
        "next(f)"
      ],
      "metadata": {
        "colab": {
          "base_uri": "https://localhost:8080/"
        },
        "id": "983CQV6DMmGw",
        "outputId": "4543b6f0-1062-48db-be9a-12a971ae00ca"
      },
      "execution_count": null,
      "outputs": [
        {
          "output_type": "execute_result",
          "data": {
            "text/plain": [
              "1"
            ]
          },
          "metadata": {},
          "execution_count": 39
        }
      ]
    },
    {
      "cell_type": "code",
      "source": [
        "next(f)"
      ],
      "metadata": {
        "colab": {
          "base_uri": "https://localhost:8080/"
        },
        "id": "6HoecbT2OEOv",
        "outputId": "294568c1-bd28-4740-ac8d-090d334b6b14"
      },
      "execution_count": null,
      "outputs": [
        {
          "output_type": "execute_result",
          "data": {
            "text/plain": [
              "1"
            ]
          },
          "metadata": {},
          "execution_count": 40
        }
      ]
    },
    {
      "cell_type": "code",
      "source": [
        "next(f)"
      ],
      "metadata": {
        "colab": {
          "base_uri": "https://localhost:8080/"
        },
        "id": "aN25Q7KQOkjl",
        "outputId": "43cbbcd2-d293-43dc-81d3-30b7703d97f6"
      },
      "execution_count": null,
      "outputs": [
        {
          "output_type": "execute_result",
          "data": {
            "text/plain": [
              "2"
            ]
          },
          "metadata": {},
          "execution_count": 41
        }
      ]
    },
    {
      "cell_type": "code",
      "source": [
        "'''6. Write a generator function in Python that yields the powers of 2 up to a given exponent.'''\n",
        "\n",
        "def square_no_gen(n):\n",
        "  for i in range(n):\n",
        "    yield(i ** 2)\n",
        "gen = square_no_gen(4)\n",
        "next(gen)"
      ],
      "metadata": {
        "colab": {
          "base_uri": "https://localhost:8080/"
        },
        "id": "wvKDOvNkOnuz",
        "outputId": "72163d97-08a6-492b-9c09-4bd015bd7016"
      },
      "execution_count": null,
      "outputs": [
        {
          "output_type": "execute_result",
          "data": {
            "text/plain": [
              "0"
            ]
          },
          "metadata": {},
          "execution_count": 43
        }
      ]
    },
    {
      "cell_type": "code",
      "source": [
        "next(gen)"
      ],
      "metadata": {
        "colab": {
          "base_uri": "https://localhost:8080/"
        },
        "id": "v65I0y8gPjBh",
        "outputId": "69242d9c-4d89-4473-8836-c1e6d8f3ab72"
      },
      "execution_count": null,
      "outputs": [
        {
          "output_type": "execute_result",
          "data": {
            "text/plain": [
              "1"
            ]
          },
          "metadata": {},
          "execution_count": 44
        }
      ]
    },
    {
      "cell_type": "code",
      "source": [
        "next(gen)"
      ],
      "metadata": {
        "colab": {
          "base_uri": "https://localhost:8080/"
        },
        "id": "NG99ACOQPmQX",
        "outputId": "9b1afc7b-d815-4edb-d833-0b1d4b70061e"
      },
      "execution_count": null,
      "outputs": [
        {
          "output_type": "execute_result",
          "data": {
            "text/plain": [
              "4"
            ]
          },
          "metadata": {},
          "execution_count": 45
        }
      ]
    },
    {
      "cell_type": "code",
      "source": [
        "next(gen)"
      ],
      "metadata": {
        "colab": {
          "base_uri": "https://localhost:8080/"
        },
        "id": "o_U_AOWiPn_d",
        "outputId": "967bf013-9255-4a0f-ee5d-904b657e69aa"
      },
      "execution_count": null,
      "outputs": [
        {
          "output_type": "execute_result",
          "data": {
            "text/plain": [
              "9"
            ]
          },
          "metadata": {},
          "execution_count": 46
        }
      ]
    },
    {
      "cell_type": "code",
      "source": [
        "''' 7. Implement a generator function that reads a file line by line and yields each line as a string.'''\n",
        "\n",
        "'''please tell me how to do it'''"
      ],
      "metadata": {
        "colab": {
          "base_uri": "https://localhost:8080/",
          "height": 35
        },
        "id": "jDzg1soIPpbs",
        "outputId": "84facac1-0531-4e8c-9684-ef40a1917b1a"
      },
      "execution_count": null,
      "outputs": [
        {
          "output_type": "execute_result",
          "data": {
            "text/plain": [
              "'please tell me how to do it'"
            ],
            "application/vnd.google.colaboratory.intrinsic+json": {
              "type": "string"
            }
          },
          "metadata": {},
          "execution_count": 49
        }
      ]
    },
    {
      "cell_type": "code",
      "source": [
        "'''8. Use a lambda function in Python to sort a list of tuples based on the second element of each tuple.'''\n",
        "\n",
        "my_list = [(\"apple\", 5), (\"banana\", 2), (\"cherry\", 8), (\"date\", 1)]\n",
        "sorted_list = sorted(my_list, key=lambda x: x[1])\n",
        "print(sorted_list)"
      ],
      "metadata": {
        "colab": {
          "base_uri": "https://localhost:8080/"
        },
        "id": "CcCM4HW6QY_d",
        "outputId": "cdabc6be-840e-4a62-c5e5-b63b33c18b4a"
      },
      "execution_count": null,
      "outputs": [
        {
          "output_type": "stream",
          "name": "stdout",
          "text": [
            "[('date', 1), ('banana', 2), ('apple', 5), ('cherry', 8)]\n"
          ]
        }
      ]
    },
    {
      "cell_type": "code",
      "source": [
        "''' 9. Write a Python program that uses `map()` to convert a list of temperatures from Celsius to Fahrenheit.'''\n",
        "\n",
        "\n",
        "celsius = [0, 25, 37.5, 100]\n",
        "def celcius_to_fahrenheit (celsius):\n",
        " return (celsius_temperatures * 9/5) + 32\n",
        "fahrenheit_temperatures = list(map(celcius_to_fahrenheit, celsius))\n",
        "pint(f\"Fahrenheit temperatures: {fahrenheit_temperatures}\")"
      ],
      "metadata": {
        "colab": {
          "base_uri": "https://localhost:8080/",
          "height": 315
        },
        "id": "p5PibxfpRtFZ",
        "outputId": "730f67ee-307d-482d-8386-b2a8bcf95858"
      },
      "execution_count": null,
      "outputs": [
        {
          "output_type": "error",
          "ename": "TypeError",
          "evalue": "unsupported operand type(s) for /: 'list' and 'int'",
          "traceback": [
            "\u001b[0;31m---------------------------------------------------------------------------\u001b[0m",
            "\u001b[0;31mTypeError\u001b[0m                                 Traceback (most recent call last)",
            "\u001b[0;32m/tmp/ipython-input-61-1328027558.py\u001b[0m in \u001b[0;36m<cell line: 0>\u001b[0;34m()\u001b[0m\n\u001b[1;32m      5\u001b[0m \u001b[0;32mdef\u001b[0m \u001b[0mcelcius_to_fahrenheit\u001b[0m \u001b[0;34m(\u001b[0m\u001b[0mcelsius\u001b[0m\u001b[0;34m)\u001b[0m\u001b[0;34m:\u001b[0m\u001b[0;34m\u001b[0m\u001b[0;34m\u001b[0m\u001b[0m\n\u001b[1;32m      6\u001b[0m  \u001b[0;32mreturn\u001b[0m \u001b[0;34m(\u001b[0m\u001b[0mcelsius_temperatures\u001b[0m \u001b[0;34m*\u001b[0m \u001b[0;36m9\u001b[0m\u001b[0;34m/\u001b[0m\u001b[0;36m5\u001b[0m\u001b[0;34m)\u001b[0m \u001b[0;34m+\u001b[0m \u001b[0;36m32\u001b[0m\u001b[0;34m\u001b[0m\u001b[0;34m\u001b[0m\u001b[0m\n\u001b[0;32m----> 7\u001b[0;31m \u001b[0mfahrenheit_temperatures\u001b[0m \u001b[0;34m=\u001b[0m \u001b[0mlist\u001b[0m\u001b[0;34m(\u001b[0m\u001b[0mmap\u001b[0m\u001b[0;34m(\u001b[0m\u001b[0mcelcius_to_fahrenheit\u001b[0m\u001b[0;34m,\u001b[0m \u001b[0mcelsius\u001b[0m\u001b[0;34m)\u001b[0m\u001b[0;34m)\u001b[0m\u001b[0;34m\u001b[0m\u001b[0;34m\u001b[0m\u001b[0m\n\u001b[0m\u001b[1;32m      8\u001b[0m \u001b[0mpint\u001b[0m\u001b[0;34m(\u001b[0m\u001b[0;34mf\"Fahrenheit temperatures: {fahrenheit_temperatures}\"\u001b[0m\u001b[0;34m)\u001b[0m\u001b[0;34m\u001b[0m\u001b[0;34m\u001b[0m\u001b[0m\n",
            "\u001b[0;32m/tmp/ipython-input-61-1328027558.py\u001b[0m in \u001b[0;36mcelcius_to_fahrenheit\u001b[0;34m(celsius)\u001b[0m\n\u001b[1;32m      4\u001b[0m \u001b[0mcelsius\u001b[0m \u001b[0;34m=\u001b[0m \u001b[0;34m[\u001b[0m\u001b[0;36m0\u001b[0m\u001b[0;34m,\u001b[0m \u001b[0;36m25\u001b[0m\u001b[0;34m,\u001b[0m \u001b[0;36m37.5\u001b[0m\u001b[0;34m,\u001b[0m \u001b[0;36m100\u001b[0m\u001b[0;34m]\u001b[0m\u001b[0;34m\u001b[0m\u001b[0;34m\u001b[0m\u001b[0m\n\u001b[1;32m      5\u001b[0m \u001b[0;32mdef\u001b[0m \u001b[0mcelcius_to_fahrenheit\u001b[0m \u001b[0;34m(\u001b[0m\u001b[0mcelsius\u001b[0m\u001b[0;34m)\u001b[0m\u001b[0;34m:\u001b[0m\u001b[0;34m\u001b[0m\u001b[0;34m\u001b[0m\u001b[0m\n\u001b[0;32m----> 6\u001b[0;31m  \u001b[0;32mreturn\u001b[0m \u001b[0;34m(\u001b[0m\u001b[0mcelsius_temperatures\u001b[0m \u001b[0;34m*\u001b[0m \u001b[0;36m9\u001b[0m\u001b[0;34m/\u001b[0m\u001b[0;36m5\u001b[0m\u001b[0;34m)\u001b[0m \u001b[0;34m+\u001b[0m \u001b[0;36m32\u001b[0m\u001b[0;34m\u001b[0m\u001b[0;34m\u001b[0m\u001b[0m\n\u001b[0m\u001b[1;32m      7\u001b[0m \u001b[0mfahrenheit_temperatures\u001b[0m \u001b[0;34m=\u001b[0m \u001b[0mlist\u001b[0m\u001b[0;34m(\u001b[0m\u001b[0mmap\u001b[0m\u001b[0;34m(\u001b[0m\u001b[0mcelcius_to_fahrenheit\u001b[0m\u001b[0;34m,\u001b[0m \u001b[0mcelsius\u001b[0m\u001b[0;34m)\u001b[0m\u001b[0;34m)\u001b[0m\u001b[0;34m\u001b[0m\u001b[0;34m\u001b[0m\u001b[0m\n\u001b[1;32m      8\u001b[0m \u001b[0mpint\u001b[0m\u001b[0;34m(\u001b[0m\u001b[0;34mf\"Fahrenheit temperatures: {fahrenheit_temperatures}\"\u001b[0m\u001b[0;34m)\u001b[0m\u001b[0;34m\u001b[0m\u001b[0;34m\u001b[0m\u001b[0m\n",
            "\u001b[0;31mTypeError\u001b[0m: unsupported operand type(s) for /: 'list' and 'int'"
          ]
        }
      ]
    },
    {
      "cell_type": "code",
      "source": [
        "''' 10. Create a Python program that uses `filter()` to remove all the vowels from a given string.'''\n",
        "\n",
        "l = [\"I love you\",\"Ajay\",\"Rusha\"]\n",
        "def remove_vowels(l):\n",
        "   vowels = 'aeiouAEIOU'\n",
        "   filtered_chars = filter(lambda char: char not in vowels, l)\n",
        "\n",
        "\n",
        "\n"
      ],
      "metadata": {
        "id": "PBvow1HRoUy4"
      },
      "execution_count": 6,
      "outputs": []
    },
    {
      "cell_type": "code",
      "source": [
        "''' 11. Imagine an accounting routine used in a book shop. It works on a list with sublists, which look like this:\n",
        "\n",
        "\n",
        "\n",
        "\n",
        "\n",
        "\n",
        "\n",
        "Write a Python program, which returns a list with 2-tuples. Each tuple consists of the order number and the\n",
        "product of the price per item and the quantity. The product should be increased by 10,- € if the value of the\n",
        "order is smaller than 100,00 €.\n",
        "\n",
        "Write a Python program using lambda and map.'''\n",
        "\n",
        "plz tell me how to do it.\n",
        "\n"
      ],
      "metadata": {
        "id": "D3k21csHoUnI"
      },
      "execution_count": null,
      "outputs": []
    }
  ]
}